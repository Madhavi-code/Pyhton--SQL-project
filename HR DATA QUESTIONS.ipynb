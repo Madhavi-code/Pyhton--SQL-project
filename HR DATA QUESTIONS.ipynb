{
 "cells": [
  {
   "cell_type": "code",
   "execution_count": 16,
   "id": "84cb0cfe-1116-4f28-829f-591e661a5d34",
   "metadata": {},
   "outputs": [
    {
     "data": {
      "text/plain": [
       "[('hr_data',),\n",
       " ('information_schema',),\n",
       " ('mysql',),\n",
       " ('performance_schema',),\n",
       " ('sys',)]"
      ]
     },
     "execution_count": 16,
     "metadata": {},
     "output_type": "execute_result"
    }
   ],
   "source": [
    "import mysql.connector\n",
    "mydb = mysql. connector. connect(\n",
    "    host='localhost',\n",
    "    user='root',\n",
    "    password='12345',\n",
    "    database='HR_DATA'\n",
    ")\n",
    "mycursor = mydb.cursor()\n",
    "mycursor.execute(\"show databases\")\n",
    "data = mycursor.fetchall()\n",
    "data"
   ]
  },
  {
   "cell_type": "markdown",
   "id": "5e354105-eed8-453f-a448-f42c7fad3ed9",
   "metadata": {},
   "source": [
    "# select employees education level"
   ]
  },
  {
   "cell_type": "code",
   "execution_count": 18,
   "id": "89870159-2a8f-465f-a367-204100bd04ee",
   "metadata": {},
   "outputs": [
    {
     "data": {
      "text/plain": [
       "[(1, 'No Formal Qualifications'),\n",
       " (2, 'High School '),\n",
       " (3, 'Bachelors '),\n",
       " (4, 'Masters '),\n",
       " (5, 'Doctorate'),\n",
       " (1, 'No Formal Qualifications'),\n",
       " (2, 'High School '),\n",
       " (3, 'Bachelors '),\n",
       " (4, 'Masters '),\n",
       " (5, 'Doctorate')]"
      ]
     },
     "execution_count": 18,
     "metadata": {},
     "output_type": "execute_result"
    }
   ],
   "source": [
    "mycursor.execute(\"select * from educationlevel\")\n",
    "data = mycursor.fetchall()\n",
    "data"
   ]
  },
  {
   "cell_type": "markdown",
   "id": "f918cae4-ad13-4988-90f2-93db294a209a",
   "metadata": {},
   "source": [
    "# Select total count of employees in HR department "
   ]
  },
  {
   "cell_type": "code",
   "execution_count": 25,
   "id": "30973f70-ffb4-4b17-85d4-5aa0f9e05667",
   "metadata": {},
   "outputs": [
    {
     "data": {
      "text/plain": [
       "('Total number of employees count in HR Department are ', 2940)"
      ]
     },
     "execution_count": 25,
     "metadata": {},
     "output_type": "execute_result"
    }
   ],
   "source": [
    "mycursor.execute(\"select count(EmployeeID) from employee\")\n",
    "data = mycursor.fetchall()\n",
    "data [0][0]\n",
    "\"Total number of employees count in HR Department are \" , data [0][0]"
   ]
  },
  {
   "cell_type": "markdown",
   "id": "550342e3-c23e-4bbc-8473-d724f0609d94",
   "metadata": {},
   "source": [
    "# Select count of employees gender wise "
   ]
  },
  {
   "cell_type": "code",
   "execution_count": 27,
   "id": "227b7185-b7ee-4d70-b623-eb5461ad5ec3",
   "metadata": {},
   "outputs": [
    {
     "data": {
      "text/plain": [
       "[(1350, 'Female'),\n",
       " (1302, 'Male'),\n",
       " (248, 'Non-Binary'),\n",
       " (40, 'Prefer Not To Say')]"
      ]
     },
     "execution_count": 27,
     "metadata": {},
     "output_type": "execute_result"
    }
   ],
   "source": [
    "mycursor.execute(\"select count(EmployeeID),gender from employee group by gender\")\n",
    "data = mycursor.fetchall()\n",
    "data                 "
   ]
  },
  {
   "cell_type": "code",
   "execution_count": 52,
   "id": "0806f113-ce2c-41fc-a9b5-f904dbf5267e",
   "metadata": {},
   "outputs": [],
   "source": [
    "import pandas as pd\n",
    "import seaborn as sns\n",
    "sns.set(color_codes= True)\n",
    "import matplotlib.pyplot as plt"
   ]
  },
  {
   "cell_type": "markdown",
   "id": "b2a83313-57b7-4bdb-8505-e4b80f26fe75",
   "metadata": {},
   "source": [
    "# select count of employees education level wise "
   ]
  },
  {
   "cell_type": "code",
   "execution_count": 53,
   "id": "50388998-f4b9-43d2-966f-be59237e2e1e",
   "metadata": {
    "scrolled": true
   },
   "outputs": [
    {
     "data": {
      "text/html": [
       "<div>\n",
       "<style scoped>\n",
       "    .dataframe tbody tr th:only-of-type {\n",
       "        vertical-align: middle;\n",
       "    }\n",
       "\n",
       "    .dataframe tbody tr th {\n",
       "        vertical-align: top;\n",
       "    }\n",
       "\n",
       "    .dataframe thead th {\n",
       "        text-align: right;\n",
       "    }\n",
       "</style>\n",
       "<table border=\"1\" class=\"dataframe\">\n",
       "  <thead>\n",
       "    <tr style=\"text-align: right;\">\n",
       "      <th></th>\n",
       "      <th>0</th>\n",
       "      <th>1</th>\n",
       "    </tr>\n",
       "  </thead>\n",
       "  <tbody>\n",
       "    <tr>\n",
       "      <th>0</th>\n",
       "      <td>192</td>\n",
       "      <td>Doctorate</td>\n",
       "    </tr>\n",
       "    <tr>\n",
       "      <th>1</th>\n",
       "      <td>1592</td>\n",
       "      <td>Masters</td>\n",
       "    </tr>\n",
       "    <tr>\n",
       "      <th>2</th>\n",
       "      <td>2288</td>\n",
       "      <td>Bachelors</td>\n",
       "    </tr>\n",
       "    <tr>\n",
       "      <th>3</th>\n",
       "      <td>1128</td>\n",
       "      <td>High School</td>\n",
       "    </tr>\n",
       "    <tr>\n",
       "      <th>4</th>\n",
       "      <td>680</td>\n",
       "      <td>No Formal Qualifications</td>\n",
       "    </tr>\n",
       "  </tbody>\n",
       "</table>\n",
       "</div>"
      ],
      "text/plain": [
       "      0                         1\n",
       "0   192                 Doctorate\n",
       "1  1592                  Masters \n",
       "2  2288                Bachelors \n",
       "3  1128              High School \n",
       "4   680  No Formal Qualifications"
      ]
     },
     "execution_count": 53,
     "metadata": {},
     "output_type": "execute_result"
    }
   ],
   "source": [
    "mycursor.execute(\"select count(employee.EmployeeID),educationlevel.EducationLevel from employee join educationlevel  on employee.Education = educationlevel.EducationLevelID group by educationlevel.EducationLevel\")\n",
    "data = mycursor.fetchall()\n",
    "df = pd.DataFrame(data)\n",
    "df"
   ]
  },
  {
   "cell_type": "code",
   "execution_count": 56,
   "id": "fe58d665-0d34-4c7a-a9aa-615c0144b4c0",
   "metadata": {},
   "outputs": [],
   "source": [
    "# select count of employees education level wise - bar chart"
   ]
  },
  {
   "cell_type": "code",
   "execution_count": 57,
   "id": "7f7d6302-68da-4613-a7e8-5dcbe560c316",
   "metadata": {},
   "outputs": [
    {
     "data": {
      "image/png": "[encoded data removed]",
      "text/plain": [
       "<Figure size 640x480 with 1 Axes>"
      ]
     },
     "metadata": {},
     "output_type": "display_data"
    }
   ],
   "source": [
    "mycursor.execute(\"select educationlevel.EducationLevel,count(employee.EmployeeID)  from employee join educationlevel  on employee.Education = educationlevel.EducationLevelID group by educationlevel.EducationLevel\")\n",
    "data = mycursor.fetchall()\n",
    "df = pd.DataFrame(data, columns = [\"EducationLevel\",\"COUNT_EMPLOYEE\"])\n",
    "plt.bar(df[\"EducationLevel\"],df[\"COUNT_EMPLOYEE\"])\n",
    "plt.xticks(rotation = 90)\n",
    "plt.show()"
   ]
  },
  {
   "cell_type": "code",
   "execution_count": null,
   "id": "6ab9b64b-7268-4362-96c4-242e3cbf47cc",
   "metadata": {},
   "outputs": [],
   "source": []
  }
 ],
 "metadata": {
  "kernelspec": {
   "display_name": "Python 3 (ipykernel)",
   "language": "python",
   "name": "python3"
  },
  "language_info": {
   "codemirror_mode": {
    "name": "ipython",
    "version": 3
   },
   "file_extension": ".py",
   "mimetype": "text/x-python",
   "name": "python",
   "nbconvert_exporter": "python",
   "pygments_lexer": "ipython3",
   "version": "3.12.5"
  }
 },
 "nbformat": 4,
 "nbformat_minor": 5
}
